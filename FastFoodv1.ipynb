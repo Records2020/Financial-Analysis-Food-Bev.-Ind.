{
 "cells": [
  {
   "cell_type": "markdown",
   "metadata": {},
   "source": [
    "Yum! Brands, Inc. (YUM): NYSE. Brands include KFC, Pizza Hut, and Taco Bell.\n",
    " YUMI is a comparison ticker to be used as a like for like comparison to the data Fareed pulled and plotted. \n",
    " YUM is a large-cap publicly traded company with a value in excess of $10 billion.\n",
    " Only a few publicly traded restaurant stocks fall into this category. Others in this market is McDonalsd and Restaurant Brands. "
   ]
  },
  {
   "cell_type": "code",
   "execution_count": 1,
   "metadata": {},
   "outputs": [],
   "source": [
    "import alpaca_trade_api as tradeapi\n",
    "#from dotenv import load_dotenv\n",
    "#import os\n",
    "#load_dotenv()"
   ]
  },
  {
   "cell_type": "code",
   "execution_count": 2,
   "metadata": {},
   "outputs": [],
   "source": [
    "# authentication and connection details\n",
    "#api_key = 'AKX02JQUU6PHT68Z0TW8'\n",
    "#api_secret = '6plXJV048e2toaO11jbzK2ORqOWWK9TSxY7OK9kv'\n",
    "#base_url = 'https://api.alpaca.markets'\n",
    "#data_url = 'wss://data.alpaca.markets'\n",
    "#alpaca_key=os.getenv(\"ALPACA_API_KEY\")\n",
    "#alpaca_secret_key=os.getenv(\"ALPACA_SECRET_KEY\")"
   ]
  },
  {
   "cell_type": "code",
   "execution_count": 2,
   "metadata": {},
   "outputs": [],
   "source": [
    "# authentication and connection details\n",
    "alpaca_key = 'AKX02JQUU6PHT68Z0TW8'\n",
    "alpaca_secret_key = '6plXJV048e2toaO11jbzK2ORqOWWK9TSxY7OK9kv'\n",
    "base_url = 'https://api.alpaca.markets'\n",
    "data_url = 'wss://data.alpaca.markets'\n",
    "api_version='v2'"
   ]
  },
  {
   "cell_type": "code",
   "execution_count": 3,
   "metadata": {},
   "outputs": [],
   "source": [
    "# instantiate REST API\n",
    "# instantiate REST API\n",
    "api = tradeapi.REST(alpaca_key, alpaca_secret_key, base_url, api_version='v2')\n"
   ]
  },
  {
   "cell_type": "code",
   "execution_count": 4,
   "metadata": {},
   "outputs": [
    {
     "name": "stdout",
     "output_type": "stream",
     "text": [
      "                              YUM                                  \n",
      "                             open     high     low   close   volume\n",
      "2020-06-23 00:00:00-04:00   88.96   89.290   87.72   87.95  1656271\n",
      "2020-06-24 00:00:00-04:00   87.44   87.540   84.95   86.55  2453908\n",
      "2020-06-25 00:00:00-04:00   86.32   86.680   84.85   85.96  1394734\n",
      "2020-06-26 00:00:00-04:00   85.80   86.470   84.17   84.79  1340302\n",
      "2020-06-29 00:00:00-04:00   85.02   87.180   84.32   87.00  1073921\n",
      "...                           ...      ...     ...     ...      ...\n",
      "2020-11-05 00:00:00-05:00   99.42  101.230   98.97  100.75  4740267\n",
      "2020-11-06 00:00:00-05:00  100.57  101.260   96.60   99.40  2730925\n",
      "2020-11-09 00:00:00-05:00  103.99  106.330  101.90  102.03  3473963\n",
      "2020-11-10 00:00:00-05:00  102.76  104.015  102.00  102.99  2499986\n",
      "2020-11-11 00:00:00-05:00  103.21  103.530  101.56  101.82  2150296\n",
      "\n",
      "[100 rows x 5 columns]\n"
     ]
    }
   ],
   "source": [
    "yum = api.get_barset('YUM', 'day')\n",
    "print(yum.df)"
   ]
  },
  {
   "cell_type": "code",
   "execution_count": 5,
   "metadata": {},
   "outputs": [
    {
     "name": "stdout",
     "output_type": "stream",
     "text": [
      "                              YUM                                  \n",
      "                             open     high     low   close   volume\n",
      "2016-11-18 00:00:00-05:00   61.83   62.450   61.38   62.35  4101528\n",
      "2016-11-21 00:00:00-05:00   62.33   62.370   61.88   62.00  2495248\n",
      "2016-11-22 00:00:00-05:00   62.02   62.835   62.00   62.74  2128978\n",
      "2016-11-23 00:00:00-05:00   62.48   63.210   62.48   63.14  1572411\n",
      "2016-11-25 00:00:00-05:00   63.13   63.450   62.97   63.32   696669\n",
      "...                           ...      ...     ...     ...      ...\n",
      "2020-11-05 00:00:00-05:00   99.42  101.230   98.97  100.75  4740267\n",
      "2020-11-06 00:00:00-05:00  100.57  101.260   96.60   99.40  2730925\n",
      "2020-11-09 00:00:00-05:00  103.99  106.330  101.90  102.03  3473963\n",
      "2020-11-10 00:00:00-05:00  102.76  104.015  102.00  102.99  2499986\n",
      "2020-11-11 00:00:00-05:00  103.21  103.530  101.56  101.82  2150296\n",
      "\n",
      "[999 rows x 5 columns]\n"
     ]
    }
   ],
   "source": [
    "yum = api.get_barset('YUM', 'day', limit=999)\n",
    "yum_bars = yum['YUM']\n",
    "print(yum.df)"
   ]
  },
  {
   "cell_type": "code",
   "execution_count": 6,
   "metadata": {},
   "outputs": [
    {
     "name": "stdout",
     "output_type": "stream",
     "text": [
      "YUM moved 0.8410156881772654% over the last 999 trading days\n"
     ]
    }
   ],
   "source": [
    "year_open = yum_bars[0].o\n",
    "year_close = yum_bars[-999].c\n",
    "percent_change = (year_close - year_open) / year_open * 100\n",
    "print('YUM moved {}% over the last 999 trading days'.format(percent_change))"
   ]
  },
  {
   "cell_type": "code",
   "execution_count": null,
   "metadata": {},
   "outputs": [],
   "source": []
  }
 ],
 "metadata": {
  "kernelspec": {
   "display_name": "Python 3",
   "language": "python",
   "name": "python3"
  },
  "language_info": {
   "codemirror_mode": {
    "name": "ipython",
    "version": 3
   },
   "file_extension": ".py",
   "mimetype": "text/x-python",
   "name": "python",
   "nbconvert_exporter": "python",
   "pygments_lexer": "ipython3",
   "version": "3.8.3"
  }
 },
 "nbformat": 4,
 "nbformat_minor": 4
}
