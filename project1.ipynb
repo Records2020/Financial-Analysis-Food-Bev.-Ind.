{
 "cells": [
  {
   "cell_type": "code",
   "execution_count": 12,
   "metadata": {},
   "outputs": [],
   "source": [
    "import panel as pn\n",
    "pn.extension('plotly')\n",
    "import plotly.express as px\n",
    "import pandas as pd\n",
    "import hvplot.pandas\n",
    "import matplotlib.pyplot as plt\n",
    "import os\n",
    "from pathlib import Path\n",
    "from dotenv import load_dotenv\n",
    "from MCForecastTools import MCSimulation\n",
    "import seaborn as sea"
   ]
  },
  {
   "cell_type": "code",
   "execution_count": 8,
   "metadata": {},
   "outputs": [],
   "source": [
    "# File import\n",
    "file_path = Path(\"data/DRI_data.csv\")\n",
    "DRI_data = pd.read_csv(file_path, index_col=\"Date\")"
   ]
  },
  {
   "cell_type": "code",
   "execution_count": 9,
   "metadata": {},
   "outputs": [],
   "source": [
    "#building data frame\n",
    "\n",
    "dri_df = pd.read_csv(file_path)"
   ]
  },
  {
   "cell_type": "code",
   "execution_count": 13,
   "metadata": {},
   "outputs": [
    {
     "data": {
      "text/html": [
       "<div>\n",
       "<style scoped>\n",
       "    .dataframe tbody tr th:only-of-type {\n",
       "        vertical-align: middle;\n",
       "    }\n",
       "\n",
       "    .dataframe tbody tr th {\n",
       "        vertical-align: top;\n",
       "    }\n",
       "\n",
       "    .dataframe thead th {\n",
       "        text-align: right;\n",
       "    }\n",
       "</style>\n",
       "<table border=\"1\" class=\"dataframe\">\n",
       "  <thead>\n",
       "    <tr style=\"text-align: right;\">\n",
       "      <th></th>\n",
       "      <th>Date</th>\n",
       "      <th>Open</th>\n",
       "      <th>High</th>\n",
       "      <th>Low</th>\n",
       "      <th>Close</th>\n",
       "      <th>Adj Close</th>\n",
       "      <th>Volume</th>\n",
       "    </tr>\n",
       "  </thead>\n",
       "  <tbody>\n",
       "    <tr>\n",
       "      <th>0</th>\n",
       "      <td>2010-11-08</td>\n",
       "      <td>42.880383</td>\n",
       "      <td>43.363091</td>\n",
       "      <td>42.746300</td>\n",
       "      <td>42.934017</td>\n",
       "      <td>30.936893</td>\n",
       "      <td>1072100</td>\n",
       "    </tr>\n",
       "    <tr>\n",
       "      <th>1</th>\n",
       "      <td>2010-11-09</td>\n",
       "      <td>43.068104</td>\n",
       "      <td>43.068104</td>\n",
       "      <td>42.147385</td>\n",
       "      <td>42.344044</td>\n",
       "      <td>30.511770</td>\n",
       "      <td>664900</td>\n",
       "    </tr>\n",
       "    <tr>\n",
       "      <th>2</th>\n",
       "      <td>2010-11-10</td>\n",
       "      <td>42.120567</td>\n",
       "      <td>43.121735</td>\n",
       "      <td>41.932850</td>\n",
       "      <td>43.103859</td>\n",
       "      <td>31.059278</td>\n",
       "      <td>1507700</td>\n",
       "    </tr>\n",
       "    <tr>\n",
       "      <th>3</th>\n",
       "      <td>2010-11-11</td>\n",
       "      <td>42.817810</td>\n",
       "      <td>44.230171</td>\n",
       "      <td>42.603275</td>\n",
       "      <td>44.078209</td>\n",
       "      <td>31.761360</td>\n",
       "      <td>2067400</td>\n",
       "    </tr>\n",
       "    <tr>\n",
       "      <th>4</th>\n",
       "      <td>2010-11-12</td>\n",
       "      <td>43.604443</td>\n",
       "      <td>43.792160</td>\n",
       "      <td>43.050224</td>\n",
       "      <td>43.488235</td>\n",
       "      <td>31.336243</td>\n",
       "      <td>2397600</td>\n",
       "    </tr>\n",
       "  </tbody>\n",
       "</table>\n",
       "</div>"
      ],
      "text/plain": [
       "         Date       Open       High        Low      Close  Adj Close   Volume\n",
       "0  2010-11-08  42.880383  43.363091  42.746300  42.934017  30.936893  1072100\n",
       "1  2010-11-09  43.068104  43.068104  42.147385  42.344044  30.511770   664900\n",
       "2  2010-11-10  42.120567  43.121735  41.932850  43.103859  31.059278  1507700\n",
       "3  2010-11-11  42.817810  44.230171  42.603275  44.078209  31.761360  2067400\n",
       "4  2010-11-12  43.604443  43.792160  43.050224  43.488235  31.336243  2397600"
      ]
     },
     "execution_count": 13,
     "metadata": {},
     "output_type": "execute_result"
    }
   ],
   "source": [
    "dri_df.head()"
   ]
  },
  {
   "cell_type": "code",
   "execution_count": null,
   "metadata": {},
   "outputs": [],
   "source": [
    "#initialization of monte carlo toolkit\n",
    "\n",
    "MonteCarloThirty=MCSimulation"
   ]
  }
 ],
 "metadata": {
  "kernelspec": {
   "display_name": "Python 3",
   "language": "python",
   "name": "python3"
  },
  "language_info": {
   "codemirror_mode": {
    "name": "ipython",
    "version": 3
   },
   "file_extension": ".py",
   "mimetype": "text/x-python",
   "name": "python",
   "nbconvert_exporter": "python",
   "pygments_lexer": "ipython3",
   "version": "3.7.7"
  }
 },
 "nbformat": 4,
 "nbformat_minor": 4
}
