{
 "cells": [
  {
   "cell_type": "code",
   "execution_count": 29,
   "metadata": {},
   "outputs": [
    {
     "data": {
      "text/plain": [
       "True"
      ]
     },
     "execution_count": 29,
     "metadata": {},
     "output_type": "execute_result"
    }
   ],
   "source": [
    "import alpaca_trade_api as tradeapi\n",
    "from dotenv import load_dotenv\n",
    "import os\n",
    "load_dotenv()"
   ]
  },
  {
   "cell_type": "code",
   "execution_count": 30,
   "metadata": {},
   "outputs": [],
   "source": [
    "# authentication and connection details\n",
    "#api_key = 'AKX02JQUU6PHT68Z0TW8'\n",
    "#api_secret = '6plXJV048e2toaO11jbzK2ORqOWWK9TSxY7OK9kv'\n",
    "base_url = 'https://api.alpaca.markets'\n",
    "data_url = 'wss://data.alpaca.markets'\n",
    "alpaca_key=os.getenv(\"ALPACA_API_KEY\")\n",
    "alpaca_secret_key=os.getenv(\"ALPACA_SECRET_KEY\")"
   ]
  },
  {
   "cell_type": "code",
   "execution_count": 31,
   "metadata": {},
   "outputs": [],
   "source": [
    "# instantiate REST API\n",
    "api = tradeapi.REST(alpaca_key, alpaca_secret_key, base_url, api_version='v2')\n",
    "\n",
    "# init WebSocket\n"
   ]
  },
  {
   "cell_type": "code",
   "execution_count": 32,
   "metadata": {},
   "outputs": [],
   "source": [
    "# obtain account information\n",
    "#account = api.get_account()\n",
    "#print(account)"
   ]
  },
  {
   "cell_type": "code",
   "execution_count": 33,
   "metadata": {},
   "outputs": [
    {
     "name": "stdout",
     "output_type": "stream",
     "text": [
      "                              DRI                                     \n",
      "                             open     high       low   close    volume\n",
      "2020-06-23 00:00:00-04:00   73.00   75.440   72.3900   75.33   2860595\n",
      "2020-06-24 00:00:00-04:00   72.99   73.825   68.9122   70.83   3850808\n",
      "2020-06-25 00:00:00-04:00   74.34   76.430   72.2700   74.53   6073020\n",
      "2020-06-26 00:00:00-04:00   74.58   74.890   70.3300   72.95   4416829\n",
      "2020-06-29 00:00:00-04:00   73.95   77.250   71.8400   76.63   3729736\n",
      "...                           ...      ...       ...     ...       ...\n",
      "2020-11-05 00:00:00-05:00   96.69  101.520   96.6900  101.52   5116396\n",
      "2020-11-06 00:00:00-05:00  100.97  103.160  100.5000  102.12   9695665\n",
      "2020-11-09 00:00:00-05:00  115.92  125.960  112.8000  120.63  11442330\n",
      "2020-11-10 00:00:00-05:00  118.00  119.665  111.8350  113.40   6018980\n",
      "2020-11-11 00:00:00-05:00  113.93  113.930  105.5226  107.06   4713129\n",
      "\n",
      "[100 rows x 5 columns]\n"
     ]
    }
   ],
   "source": [
    "dri = api.get_barset('DRI', 'day')\n",
    "print(dri.df)"
   ]
  },
  {
   "cell_type": "code",
   "execution_count": 40,
   "metadata": {},
   "outputs": [
    {
     "name": "stdout",
     "output_type": "stream",
     "text": [
      "                              DRI                                      \n",
      "                             open     high       low    close    volume\n",
      "2016-11-23 00:00:00-05:00   73.98   74.730   73.8100   74.500    558610\n",
      "2016-11-25 00:00:00-05:00   74.90   74.990   74.5000   74.930    193947\n",
      "2016-11-28 00:00:00-05:00   74.24   74.610   73.6700   73.921    820405\n",
      "2016-11-29 00:00:00-05:00   73.00   73.030   72.2550   72.890   1821081\n",
      "2016-11-30 00:00:00-05:00   72.85   73.500   72.6500   73.300   1550743\n",
      "...                           ...      ...       ...      ...       ...\n",
      "2020-11-05 00:00:00-05:00   96.69  101.520   96.6900  101.520   5116396\n",
      "2020-11-06 00:00:00-05:00  100.97  103.160  100.5000  102.120   9695665\n",
      "2020-11-09 00:00:00-05:00  115.92  125.960  112.8000  120.630  11442330\n",
      "2020-11-10 00:00:00-05:00  118.00  119.665  111.8350  113.400   6018980\n",
      "2020-11-11 00:00:00-05:00  113.93  113.930  105.5226  107.060   4713129\n",
      "\n",
      "[999 rows x 5 columns]\n"
     ]
    }
   ],
   "source": [
    "dri = api.get_barset('DRI', 'day', limit=999)\n",
    "dri_bars = dri['DRI']\n",
    "print(dri.df)"
   ]
  },
  {
   "cell_type": "code",
   "execution_count": 41,
   "metadata": {},
   "outputs": [
    {
     "name": "stdout",
     "output_type": "stream",
     "text": [
      "DRI moved 0.7028926736955879% over the last 999 trading days\n"
     ]
    }
   ],
   "source": [
    "year_open = dri_bars[0].o\n",
    "year_close = dri_bars[-999].c\n",
    "percent_change = (year_close - year_open) / year_open * 100\n",
    "print('DRI moved {}% over the last 999 trading days'.format(percent_change))"
   ]
  },
  {
   "cell_type": "code",
   "execution_count": null,
   "metadata": {},
   "outputs": [],
   "source": []
  }
 ],
 "metadata": {
  "kernelspec": {
   "display_name": "Python 3",
   "language": "python",
   "name": "python3"
  },
  "language_info": {
   "codemirror_mode": {
    "name": "ipython",
    "version": 3
   },
   "file_extension": ".py",
   "mimetype": "text/x-python",
   "name": "python",
   "nbconvert_exporter": "python",
   "pygments_lexer": "ipython3",
   "version": "3.8.3"
  }
 },
 "nbformat": 4,
 "nbformat_minor": 4
}
