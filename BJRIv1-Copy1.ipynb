{
 "cells": [
  {
   "cell_type": "markdown",
   "metadata": {},
   "source": [
    "BJ’s Restaurants Inc. (BJRI): Nasdaq. BJ’s Restaurant & Brewhouse.\n",
    " BJRI is a comparison ticker to be used as a like for like comparison to the data Cindy has established. \n",
    " BJRI is considered a small-cap publicly trading company with a value ranging between $250 million and $2 billion. Other examples in this value range is Chuys' Holdings and Dave & Busters Entertainment. "
   ]
  },
  {
   "cell_type": "code",
   "execution_count": 1,
   "metadata": {},
   "outputs": [],
   "source": [
    "import alpaca_trade_api as tradeapi\n",
    "#from dotenv import load_dotenv\n",
    "#import os\n",
    "#load_dotenv()"
   ]
  },
  {
   "cell_type": "code",
   "execution_count": 2,
   "metadata": {},
   "outputs": [],
   "source": [
    "# authentication and connection details\n",
    "#api_key = 'AKX02JQUU6PHT68Z0TW8'\n",
    "#api_secret = '6plXJV048e2toaO11jbzK2ORqOWWK9TSxY7OK9kv'\n",
    "#base_url = 'https://api.alpaca.markets'\n",
    "#data_url = 'wss://data.alpaca.markets'\n",
    "#alpaca_key=os.getenv(\"ALPACA_API_KEY\")\n",
    "#alpaca_secret_key=os.getenv(\"ALPACA_SECRET_KEY\")"
   ]
  },
  {
   "cell_type": "code",
   "execution_count": 2,
   "metadata": {},
   "outputs": [],
   "source": [
    "# authentication and connection details\n",
    "alpaca_key = 'AKX02JQUU6PHT68Z0TW8'\n",
    "alpaca_secret_key = '6plXJV048e2toaO11jbzK2ORqOWWK9TSxY7OK9kv'\n",
    "base_url = 'https://api.alpaca.markets'\n",
    "data_url = 'wss://data.alpaca.markets'\n",
    "api_version='v2'"
   ]
  },
  {
   "cell_type": "code",
   "execution_count": 3,
   "metadata": {},
   "outputs": [],
   "source": [
    "# instantiate REST API\n",
    "# instantiate REST API\n",
    "api = tradeapi.REST(alpaca_key, alpaca_secret_key, base_url, api_version='v2')\n"
   ]
  },
  {
   "cell_type": "code",
   "execution_count": 5,
   "metadata": {},
   "outputs": [
    {
     "name": "stdout",
     "output_type": "stream",
     "text": [
      "                            BJRI                                  \n",
      "                            open     high      low  close   volume\n",
      "2020-06-22 00:00:00-04:00  21.00  21.2700  20.1400  20.60   534413\n",
      "2020-06-23 00:00:00-04:00  21.19  23.0200  21.0000  22.94   539681\n",
      "2020-06-24 00:00:00-04:00  22.30  22.4300  20.4800  20.71   535118\n",
      "2020-06-25 00:00:00-04:00  20.20  21.3200  20.0600  20.95   466222\n",
      "2020-06-26 00:00:00-04:00  20.76  20.9000  18.8800  19.46   810700\n",
      "...                          ...      ...      ...    ...      ...\n",
      "2020-11-05 00:00:00-05:00  29.98  31.2300  29.9800  30.88   233983\n",
      "2020-11-06 00:00:00-05:00  30.82  31.5982  30.3201  31.24   151766\n",
      "2020-11-09 00:00:00-05:00  35.12  40.9200  35.0000  37.98  1152099\n",
      "2020-11-10 00:00:00-05:00  37.67  39.0050  36.1500  38.60   683435\n",
      "2020-11-11 00:00:00-05:00  38.51  39.1500  35.4100  36.00   445908\n",
      "\n",
      "[100 rows x 5 columns]\n"
     ]
    }
   ],
   "source": [
    "bjri = api.get_barset('BJRI', 'day')\n",
    "print(bjri.df)"
   ]
  },
  {
   "cell_type": "code",
   "execution_count": 7,
   "metadata": {},
   "outputs": [
    {
     "name": "stdout",
     "output_type": "stream",
     "text": [
      "                            BJRI                                  \n",
      "                            open     high      low  close   volume\n",
      "2016-11-23 00:00:00-05:00  38.98  39.6500  38.7400  39.10   205317\n",
      "2016-11-25 00:00:00-05:00  39.25  39.7000  39.0500  39.50    64669\n",
      "2016-11-28 00:00:00-05:00  39.35  39.5500  38.4100  38.44   479578\n",
      "2016-11-29 00:00:00-05:00  38.54  39.0000  37.8700  37.90   224943\n",
      "2016-11-30 00:00:00-05:00  37.90  37.9500  36.7000  36.80   166927\n",
      "...                          ...      ...      ...    ...      ...\n",
      "2020-11-05 00:00:00-05:00  29.98  31.2300  29.9800  30.88   233983\n",
      "2020-11-06 00:00:00-05:00  30.82  31.5982  30.3201  31.24   151766\n",
      "2020-11-09 00:00:00-05:00  35.12  40.9200  35.0000  37.98  1152099\n",
      "2020-11-10 00:00:00-05:00  37.67  39.0050  36.1500  38.60   683435\n",
      "2020-11-11 00:00:00-05:00  38.51  39.1500  35.4100  36.00   445908\n",
      "\n",
      "[999 rows x 5 columns]\n"
     ]
    }
   ],
   "source": [
    "bjri = api.get_barset('BJRI', 'day', limit=999)\n",
    "bjri_bars = bjri['BJRI']\n",
    "print(bjri.df)"
   ]
  },
  {
   "cell_type": "code",
   "execution_count": 8,
   "metadata": {},
   "outputs": [
    {
     "name": "stdout",
     "output_type": "stream",
     "text": [
      "BJRI moved 0.30785017957928307% over the last 999 trading days\n"
     ]
    }
   ],
   "source": [
    "year_open = bjri_bars[0].o\n",
    "year_close = bjri_bars[-999].c\n",
    "percent_change = (year_close - year_open) / year_open * 100\n",
    "print('BJRI moved {}% over the last 999 trading days'.format(percent_change))"
   ]
  },
  {
   "cell_type": "code",
   "execution_count": null,
   "metadata": {},
   "outputs": [],
   "source": []
  }
 ],
 "metadata": {
  "kernelspec": {
   "display_name": "Python 3",
   "language": "python",
   "name": "python3"
  },
  "language_info": {
   "codemirror_mode": {
    "name": "ipython",
    "version": 3
   },
   "file_extension": ".py",
   "mimetype": "text/x-python",
   "name": "python",
   "nbconvert_exporter": "python",
   "pygments_lexer": "ipython3",
   "version": "3.8.3"
  }
 },
 "nbformat": 4,
 "nbformat_minor": 4
}
