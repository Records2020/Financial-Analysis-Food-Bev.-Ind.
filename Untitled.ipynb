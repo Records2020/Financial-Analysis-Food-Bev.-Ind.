{
 "cells": [
  {
   "cell_type": "code",
   "execution_count": 1,
   "metadata": {},
   "outputs": [],
   "source": [
    "import alpaca_trade_api as tradeapi\n"
   ]
  },
  {
   "cell_type": "code",
   "execution_count": 2,
   "metadata": {},
   "outputs": [],
   "source": [
    "# authentication and connection details\n",
    "api_key = 'AKX02JQUU6PHT68Z0TW8'\n",
    "api_secret = '6plXJV048e2toaO11jbzK2ORqOWWK9TSxY7OK9kv'\n",
    "base_url = 'https://api.alpaca.markets'\n",
    "data_url = 'wss://data.alpaca.markets'"
   ]
  },
  {
   "cell_type": "code",
   "execution_count": 3,
   "metadata": {},
   "outputs": [],
   "source": [
    "# instantiate REST API\n",
    "api = tradeapi.REST(api_key, api_secret, base_url, api_version='v2')\n",
    "\n",
    "# init WebSocket\n",
    "conn = tradeapi.stream2.StreamConn(\n",
    "\tapi_key,\n",
    "\tapi_secret,\n",
    "\tbase_url=base_url,\n",
    "\tdata_url=data_url,\n",
    "\tdata_stream='alpacadatav1',\n",
    ")"
   ]
  },
  {
   "cell_type": "code",
   "execution_count": 4,
   "metadata": {},
   "outputs": [
    {
     "name": "stdout",
     "output_type": "stream",
     "text": [
      "                            DBI                             \n",
      "                           open  high     low close   volume\n",
      "2020-06-19 00:00:00-04:00  7.30  7.39  6.6250  6.65  3373698\n",
      "2020-06-22 00:00:00-04:00  6.53  6.92  6.2100  6.81  2507348\n",
      "2020-06-23 00:00:00-04:00  6.91  7.03  6.5900  6.94  2044043\n",
      "2020-06-24 00:00:00-04:00  6.66  6.73  6.0500  6.28  2210906\n",
      "2020-06-25 00:00:00-04:00  6.06  6.43  5.9900  6.37  1399282\n",
      "...                         ...   ...     ...   ...      ...\n",
      "2020-11-05 00:00:00-05:00  5.41  5.68  5.4036  5.54  3693412\n",
      "2020-11-06 00:00:00-05:00  5.56  5.56  5.1450  5.25  2117089\n",
      "2020-11-09 00:00:00-05:00  6.05  7.15  5.8700  6.69  8871161\n",
      "2020-11-10 00:00:00-05:00  6.73  6.91  6.5900  6.86  4859057\n",
      "2020-11-11 00:00:00-05:00  6.94  6.94  6.3900  6.56  3311088\n",
      "\n",
      "[100 rows x 5 columns]\n"
     ]
    }
   ],
   "source": [
    "dbi = api.get_barset('DBI', 'day')\n",
    "print(dbi.df)"
   ]
  },
  {
   "cell_type": "code",
   "execution_count": 7,
   "metadata": {},
   "outputs": [
    {
     "name": "stdout",
     "output_type": "stream",
     "text": [
      "                             DBI                                \n",
      "                            open   high      low  close   volume\n",
      "2019-11-08 00:00:00-05:00  18.50  18.60  18.0600  18.19   981880\n",
      "2019-11-11 00:00:00-05:00  18.00  18.20  17.5600  17.62  1208035\n",
      "2019-11-12 00:00:00-05:00  17.68  17.97  17.4100  17.55   709717\n",
      "2019-11-13 00:00:00-05:00  17.39  17.57  16.9600  17.28   906247\n",
      "2019-11-14 00:00:00-05:00  17.30  17.69  17.1100  17.41   695072\n",
      "...                          ...    ...      ...    ...      ...\n",
      "2020-11-05 00:00:00-05:00   5.41   5.68   5.4036   5.54  3693412\n",
      "2020-11-06 00:00:00-05:00   5.56   5.56   5.1450   5.25  2117089\n",
      "2020-11-09 00:00:00-05:00   6.05   7.15   5.8700   6.69  8871161\n",
      "2020-11-10 00:00:00-05:00   6.73   6.91   6.5900   6.86  4859057\n",
      "2020-11-11 00:00:00-05:00   6.94   6.94   6.3900   6.56  3311088\n",
      "\n",
      "[255 rows x 5 columns]\n"
     ]
    }
   ],
   "source": [
    "dbi = api.get_barset('DBI', 'day', limit=255)\n",
    "print (dbi.df)"
   ]
  },
  {
   "cell_type": "code",
   "execution_count": null,
   "metadata": {},
   "outputs": [],
   "source": []
  }
 ],
 "metadata": {
  "kernelspec": {
   "display_name": "Python 3",
   "language": "python",
   "name": "python3"
  },
  "language_info": {
   "codemirror_mode": {
    "name": "ipython",
    "version": 3
   },
   "file_extension": ".py",
   "mimetype": "text/x-python",
   "name": "python",
   "nbconvert_exporter": "python",
   "pygments_lexer": "ipython3",
   "version": "3.8.3"
  }
 },
 "nbformat": 4,
 "nbformat_minor": 4
}
